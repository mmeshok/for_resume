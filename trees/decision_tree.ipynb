{
 "cells": [
  {
   "cell_type": "code",
   "execution_count": 1,
   "metadata": {},
   "outputs": [],
   "source": [
    "import numpy as np\n",
    "from tree import DecisionTreeRegressor"
   ]
  },
  {
   "cell_type": "code",
   "execution_count": 2,
   "metadata": {
    "ExecuteTime": {
     "end_time": "2023-08-18T16:57:23.375069400Z",
     "start_time": "2023-08-18T16:57:23.311040800Z"
    },
    "collapsed": false
   },
   "outputs": [
    {
     "data": {
      "text/plain": [
       "array([[    76,  32181,      3, ..., 142434,   1770,      0],\n",
       "       [    69,  52789,      8, ..., 120887,   1590,      7],\n",
       "       [    19,  70535,      1, ..., 188766,    810,      0],\n",
       "       ...,\n",
       "       [    21,  45667,      7, ..., 106619,    930,      3],\n",
       "       [    49,  85144,      1, ..., 275711,   1080,      0],\n",
       "       [    45,  56294,      3, ..., 142409,    960,      2]])"
      ]
     },
     "execution_count": 2,
     "metadata": {},
     "output_type": "execute_result"
    }
   ],
   "source": [
    "# Read data fetched from SQL\n",
    "data = np.genfromtxt('data.csv', delimiter=',', dtype=int)\n",
    "data"
   ]
  },
  {
   "cell_type": "code",
   "execution_count": 3,
   "metadata": {},
   "outputs": [],
   "source": [
    "# Separate X and y\n",
    "y = data[:, 10]\n",
    "X = data[:, 0:10]"
   ]
  },
  {
   "cell_type": "code",
   "execution_count": 4,
   "metadata": {
    "ExecuteTime": {
     "end_time": "2023-08-18T16:57:25.335759300Z",
     "start_time": "2023-08-18T16:57:25.318012800Z"
    },
    "collapsed": false
   },
   "outputs": [],
   "source": [
    "# Train-test split data\n",
    "from sklearn.model_selection import train_test_split\n",
    "\n",
    "X_train, X_test, y_train, y_test = train_test_split(X, y, test_size=0.2, random_state=7)\n"
   ]
  },
  {
   "cell_type": "code",
   "execution_count": 5,
   "metadata": {},
   "outputs": [
    {
     "data": {
      "text/plain": [
       "((8000, 10), (2000, 10))"
      ]
     },
     "execution_count": 5,
     "metadata": {},
     "output_type": "execute_result"
    }
   ],
   "source": [
    "X_train.shape, X_test.shape"
   ]
  },
  {
   "cell_type": "code",
   "execution_count": 6,
   "metadata": {
    "ExecuteTime": {
     "end_time": "2023-08-18T18:22:42.356754400Z",
     "start_time": "2023-08-18T18:22:36.867565400Z"
    },
    "collapsed": false
   },
   "outputs": [
    {
     "data": {
      "text/plain": [
       "DecisionTreeRegressor(max_depth=3, min_samples_split=2)"
      ]
     },
     "execution_count": 6,
     "metadata": {},
     "output_type": "execute_result"
    }
   ],
   "source": [
    "# Creating decision tree with 'max_depth'=3\n",
    "tree = DecisionTreeRegressor(3)\n",
    "tree.fit(X_train, y_train)"
   ]
  },
  {
   "cell_type": "code",
   "execution_count": 7,
   "metadata": {},
   "outputs": [
    {
     "name": "stdout",
     "output_type": "stream",
     "text": [
      "R2 regression score: 0.6829787493814561\n"
     ]
    }
   ],
   "source": [
    "from sklearn.metrics import r2_score\n",
    "\n",
    "r2 = r2_score(y_test, tree.predict(X_test))\n",
    "print(f\"R2 regression score: {r2}\")"
   ]
  },
  {
   "cell_type": "code",
   "execution_count": 8,
   "metadata": {
    "ExecuteTime": {
     "end_time": "2023-08-18T18:07:10.587834400Z",
     "start_time": "2023-08-18T18:07:10.544493600Z"
    },
    "collapsed": false
   },
   "outputs": [
    {
     "name": "stdout",
     "output_type": "stream",
     "text": [
      "{\"feature\": 1, \"threshold\": 42191, \"n_samples\": 8000, \"mse\": 425.29, \"left\": {\"feature\": 8, \"threshold\": 423423, \"n_samples\": 2992, \"mse\": 608.44, \"left\": {\"feature\": 9, \"threshold\": 1110, \"n_samples\": 2565, \"mse\": 310.44, \"left\": {\"value\": 13, \"n_samples\": 1536, \"mse\": 113.78}, \"right\": {\"value\": 35, \"n_samples\": 1029, \"mse\": 308.34}}, \"right\": {\"feature\": 9, \"threshold\": 840, \"n_samples\": 427, \"mse\": 952.70, \"left\": {\"value\": 42, \"n_samples\": 194, \"mse\": 505.77}, \"right\": {\"value\": 81, \"n_samples\": 233, \"mse\": 657.37}}}, \"right\": {\"feature\": 8, \"threshold\": 469937, \"n_samples\": 5008, \"mse\": 136.15, \"left\": {\"feature\": 1, \"threshold\": 59965, \"n_samples\": 4494, \"mse\": 51.54, \"left\": {\"value\": 8, \"n_samples\": 1856, \"mse\": 84.66}, \"right\": {\"value\": 1, \"n_samples\": 2638, \"mse\": 8.83}}, \"right\": {\"feature\": 1, \"threshold\": 63773, \"n_samples\": 514, \"mse\": 551.05, \"left\": {\"value\": 38, \"n_samples\": 254, \"mse\": 508.88}, \"right\": {\"value\": 8, \"n_samples\": 260, \"mse\": 150.41}}}}\n"
     ]
    }
   ],
   "source": [
    "# Print out tree structure as JSON\n",
    "print(tree.as_json())"
   ]
  }
 ],
 "metadata": {
  "kernelspec": {
   "display_name": "Python 3",
   "language": "python",
   "name": "python3"
  },
  "language_info": {
   "codemirror_mode": {
    "name": "ipython",
    "version": 3
   },
   "file_extension": ".py",
   "mimetype": "text/x-python",
   "name": "python",
   "nbconvert_exporter": "python",
   "pygments_lexer": "ipython3",
   "version": "3.9.13"
  }
 },
 "nbformat": 4,
 "nbformat_minor": 0
}
