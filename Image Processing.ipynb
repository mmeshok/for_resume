{
 "cells": [
  {
   "cell_type": "markdown",
   "source": [
    "# Image processing with Python\n",
    "\n",
    "[Original course is here.](https://datacarpentry.org/image-processing/)\n",
    "[GitHub source code](https://github.com/datacarpentry/image-processing) of the original course.\n",
    "[Second source.](https://github.com/foobar167/junkyard)\n"
   ],
   "metadata": {
    "collapsed": false
   }
  },
  {
   "cell_type": "markdown",
   "source": [
    "## Preparations\n",
    "[Get your monitor DPI here.](https://www.infobyip.com/detectmonitordpi.php)"
   ],
   "metadata": {
    "collapsed": false
   }
  },
  {
   "cell_type": "code",
   "execution_count": 2,
   "outputs": [],
   "source": [
    "my_dpi = 144"
   ],
   "metadata": {
    "collapsed": false,
    "ExecuteTime": {
     "end_time": "2023-09-06T10:26:21.894693900Z",
     "start_time": "2023-09-06T10:26:21.855973800Z"
    }
   }
  },
  {
   "cell_type": "code",
   "execution_count": 4,
   "outputs": [],
   "source": [
    "import cv2\n",
    "import math\n",
    "import numpy as np\n",
    "\n",
    "from matplotlib import pyplot as plt\n",
    "\n",
    "def get_size(image):\n",
    "    \"\"\"Return image size in inches\"\"\"\n",
    "    size = image.shape[1::-1] # image size in pixels\n",
    "    return tuple(map(lambda x: int(x / my_dpi), size))\n",
    "\n",
    "def get_image(name):\n",
    "    \"\"\"Get image from path\"\"\"\n",
    "    image = cv2.imread(name) # read image\n",
    "    image = cv2.cvtColor(image, cv2.COLOR_BGR2RGB) # covert BGR to RGB\n",
    "    return image"
   ],
   "metadata": {
    "collapsed": false,
    "ExecuteTime": {
     "end_time": "2023-09-06T10:29:33.666126200Z",
     "start_time": "2023-09-06T10:29:33.651633100Z"
    }
   }
  },
  {
   "cell_type": "code",
   "execution_count": 8,
   "outputs": [
    {
     "data": {
      "text/plain": "array([[[158, 170, 172],\n        [158, 170, 172],\n        [160, 169, 172],\n        ...,\n        [167, 165, 171],\n        [164, 164, 170],\n        [163, 163, 169]],\n\n       [[157, 169, 171],\n        [158, 170, 172],\n        [160, 169, 172],\n        ...,\n        [166, 164, 170],\n        [163, 163, 169],\n        [162, 162, 168]],\n\n       [[159, 168, 171],\n        [159, 168, 171],\n        [159, 168, 171],\n        ...,\n        [165, 165, 171],\n        [165, 165, 171],\n        [164, 164, 170]],\n\n       ...,\n\n       [[180, 187, 190],\n        [181, 188, 191],\n        [179, 186, 189],\n        ...,\n        [171, 176, 177],\n        [175, 180, 181],\n        [174, 179, 180]],\n\n       [[176, 183, 186],\n        [179, 186, 189],\n        [176, 185, 188],\n        ...,\n        [176, 182, 181],\n        [175, 181, 180],\n        [174, 182, 181]],\n\n       [[172, 179, 182],\n        [176, 183, 186],\n        [174, 183, 186],\n        ...,\n        [175, 181, 180],\n        [173, 181, 180],\n        [173, 181, 180]]], dtype=uint8)"
     },
     "execution_count": 8,
     "metadata": {},
     "output_type": "execute_result"
    }
   ],
   "source": [
    "cv2.imread(\"data/image_processing/beads.jpg\")"
   ],
   "metadata": {
    "collapsed": false,
    "ExecuteTime": {
     "end_time": "2023-09-06T10:30:28.065270Z",
     "start_time": "2023-09-06T10:30:27.945738400Z"
    }
   }
  },
  {
   "cell_type": "code",
   "execution_count": null,
   "outputs": [],
   "source": [],
   "metadata": {
    "collapsed": false
   }
  }
 ],
 "metadata": {
  "kernelspec": {
   "name": "venv",
   "language": "python",
   "display_name": "venv"
  },
  "language_info": {
   "codemirror_mode": {
    "name": "ipython",
    "version": 2
   },
   "file_extension": ".py",
   "mimetype": "text/x-python",
   "name": "python",
   "nbconvert_exporter": "python",
   "pygments_lexer": "ipython2",
   "version": "2.7.6"
  }
 },
 "nbformat": 4,
 "nbformat_minor": 0
}
